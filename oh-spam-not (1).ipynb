{
 "cells": [
  {
   "cell_type": "markdown",
   "id": "821cd9b7",
   "metadata": {
    "papermill": {
     "duration": 0.016279,
     "end_time": "2022-09-17T17:22:07.445802",
     "exception": false,
     "start_time": "2022-09-17T17:22:07.429523",
     "status": "completed"
    },
    "tags": []
   },
   "source": [
    "<h1><center>--Spam-Filtering--💌--🎭--</center></h1>\n",
    "\n",
    "<center><img src= \"https://images.unsplash.com/flagged/photo-1560854350-13c0b47a3180?ixlib=rb-1.2.1&ixid=MnwxMjA3fDB8MHxwaG90by1wYWdlfHx8fGVufDB8fHx8&auto=format&fit=crop&w=1142&q=80\" alt =\"Diabetes\" style='width: 600px;'></center>\n",
    "\n",
    "<h3>SPAM ?</h3>\n",
    "\n",
    "<b>Simply, Message we don't like, like:</b>\n",
    "\n",
    "* commercial solicitations.\n",
    "* advertisements.\n",
    "* chain letters.\n",
    "* pyramid schemes.\n",
    "* fraudulent offers.\n",
    "\n",
    "\n",
    "<h3>OK! Why should I do a model for this ??</h3>\n",
    "\n",
    "* classifing it by ourselves consume time, cost and effort.\n",
    "* Human can't be accuracte every minute & spam don't stop\n",
    "\n",
    "<h3>Ready ! :</h3>\n",
    "\n",
    "* 📚 Libraries\n",
    "\n",
    "* 📕 Load Data\n",
    "\n",
    "* 🔍 EDA(1)\n",
    "\n",
    "* 🧽 Data Cleannig\n",
    "\n",
    "* 🔍 EDA(2)\n",
    "\n",
    "* 🎬 Preprocessing\n",
    "\n",
    "* 🏗️ Model building\n",
    "\n",
    "* 📏 Perofrmance measurements\n",
    "\n",
    "* 👌 Cross validation\n"
   ]
  },
  {
   "cell_type": "markdown",
   "id": "c3a78c7f",
   "metadata": {
    "papermill": {
     "duration": 0.014186,
     "end_time": "2022-09-17T17:22:07.474634",
     "exception": false,
     "start_time": "2022-09-17T17:22:07.460448",
     "status": "completed"
    },
    "tags": []
   },
   "source": [
    "# 📚 Libraries"
   ]
  },
  {
   "cell_type": "code",
   "execution_count": 51,
   "id": "d06e35f2",
   "metadata": {
    "execution": {
     "iopub.execute_input": "2022-09-17T17:22:07.508539Z",
     "iopub.status.busy": "2022-09-17T17:22:07.507529Z",
     "iopub.status.idle": "2022-09-17T17:22:08.716753Z",
     "shell.execute_reply": "2022-09-17T17:22:08.715849Z"
    },
    "papermill": {
     "duration": 1.228453,
     "end_time": "2022-09-17T17:22:08.719481",
     "exception": false,
     "start_time": "2022-09-17T17:22:07.491028",
     "status": "completed"
    },
    "tags": []
   },
   "outputs": [],
   "source": [
    "import warnings\n",
    "warnings.filterwarnings('ignore')\n",
    "\n",
    "from sklearn.feature_extraction.text import CountVectorizer\n",
    "from sklearn.model_selection import train_test_split\n",
    "from sklearn.naive_bayes import MultinomialNB\n",
    "\n",
    "import matplotlib.pyplot as plt\n",
    "import numpy as np\n",
    "import seaborn as sns\n",
    "import numpy as np\n",
    "import pandas as pd\n",
    "import joblib as jb\n",
    "\n",
    "from sklearn.metrics import plot_roc_curve, auc\n",
    "from sklearn.model_selection import StratifiedKFold"
   ]
  },
  {
   "cell_type": "code",
   "execution_count": null,
   "id": "1dd35770",
   "metadata": {},
   "outputs": [],
   "source": []
  },
  {
   "cell_type": "markdown",
   "id": "8406472a",
   "metadata": {
    "papermill": {
     "duration": 0.014524,
     "end_time": "2022-09-17T17:22:08.749325",
     "exception": false,
     "start_time": "2022-09-17T17:22:08.734801",
     "status": "completed"
    },
    "tags": []
   },
   "source": [
    "# 📕 Load Data"
   ]
  },
  {
   "cell_type": "code",
   "execution_count": 52,
   "id": "60c29819",
   "metadata": {
    "execution": {
     "iopub.execute_input": "2022-09-17T17:22:08.787491Z",
     "iopub.status.busy": "2022-09-17T17:22:08.786325Z",
     "iopub.status.idle": "2022-09-17T17:22:08.830045Z",
     "shell.execute_reply": "2022-09-17T17:22:08.828806Z"
    },
    "papermill": {
     "duration": 0.067133,
     "end_time": "2022-09-17T17:22:08.832767",
     "exception": false,
     "start_time": "2022-09-17T17:22:08.765634",
     "status": "completed"
    },
    "tags": []
   },
   "outputs": [],
   "source": [
    "data=pd.read_csv('C:/Users/Jamil/spam filtering/spam.csv', encoding='latin-1', usecols = ['v1', 'v2'])"
   ]
  },
  {
   "cell_type": "markdown",
   "id": "448b9b4d",
   "metadata": {
    "papermill": {
     "duration": 0.015108,
     "end_time": "2022-09-17T17:22:08.862922",
     "exception": false,
     "start_time": "2022-09-17T17:22:08.847814",
     "status": "completed"
    },
    "tags": []
   },
   "source": [
    "# 🔍 Exploratory Data Analysis (1)\n"
   ]
  },
  {
   "cell_type": "code",
   "execution_count": 53,
   "id": "da465a5d",
   "metadata": {
    "execution": {
     "iopub.execute_input": "2022-09-17T17:22:08.894559Z",
     "iopub.status.busy": "2022-09-17T17:22:08.894140Z",
     "iopub.status.idle": "2022-09-17T17:22:08.898999Z",
     "shell.execute_reply": "2022-09-17T17:22:08.897883Z"
    },
    "papermill": {
     "duration": 0.023158,
     "end_time": "2022-09-17T17:22:08.901055",
     "exception": false,
     "start_time": "2022-09-17T17:22:08.877897",
     "status": "completed"
    },
    "tags": []
   },
   "outputs": [],
   "source": [
    "pd.set_option('display.max_columns', 500)"
   ]
  },
  {
   "cell_type": "code",
   "execution_count": 54,
   "id": "d5f59542",
   "metadata": {
    "execution": {
     "iopub.execute_input": "2022-09-17T17:22:08.932299Z",
     "iopub.status.busy": "2022-09-17T17:22:08.931858Z",
     "iopub.status.idle": "2022-09-17T17:22:08.950430Z",
     "shell.execute_reply": "2022-09-17T17:22:08.949302Z"
    },
    "papermill": {
     "duration": 0.037437,
     "end_time": "2022-09-17T17:22:08.953087",
     "exception": false,
     "start_time": "2022-09-17T17:22:08.915650",
     "status": "completed"
    },
    "scrolled": true,
    "tags": []
   },
   "outputs": [
    {
     "data": {
      "text/html": [
       "<div>\n",
       "<style scoped>\n",
       "    .dataframe tbody tr th:only-of-type {\n",
       "        vertical-align: middle;\n",
       "    }\n",
       "\n",
       "    .dataframe tbody tr th {\n",
       "        vertical-align: top;\n",
       "    }\n",
       "\n",
       "    .dataframe thead th {\n",
       "        text-align: right;\n",
       "    }\n",
       "</style>\n",
       "<table border=\"1\" class=\"dataframe\">\n",
       "  <thead>\n",
       "    <tr style=\"text-align: right;\">\n",
       "      <th></th>\n",
       "      <th>v1</th>\n",
       "      <th>v2</th>\n",
       "    </tr>\n",
       "  </thead>\n",
       "  <tbody>\n",
       "    <tr>\n",
       "      <th>0</th>\n",
       "      <td>ham</td>\n",
       "      <td>Go until jurong point, crazy.. Available only ...</td>\n",
       "    </tr>\n",
       "    <tr>\n",
       "      <th>1</th>\n",
       "      <td>ham</td>\n",
       "      <td>Ok lar... Joking wif u oni...</td>\n",
       "    </tr>\n",
       "    <tr>\n",
       "      <th>2</th>\n",
       "      <td>spam</td>\n",
       "      <td>Free entry in 2 a wkly comp to win FA Cup fina...</td>\n",
       "    </tr>\n",
       "    <tr>\n",
       "      <th>3</th>\n",
       "      <td>ham</td>\n",
       "      <td>U dun say so early hor... U c already then say...</td>\n",
       "    </tr>\n",
       "    <tr>\n",
       "      <th>4</th>\n",
       "      <td>ham</td>\n",
       "      <td>Nah I don't think he goes to usf, he lives aro...</td>\n",
       "    </tr>\n",
       "  </tbody>\n",
       "</table>\n",
       "</div>"
      ],
      "text/plain": [
       "     v1                                                 v2\n",
       "0   ham  Go until jurong point, crazy.. Available only ...\n",
       "1   ham                      Ok lar... Joking wif u oni...\n",
       "2  spam  Free entry in 2 a wkly comp to win FA Cup fina...\n",
       "3   ham  U dun say so early hor... U c already then say...\n",
       "4   ham  Nah I don't think he goes to usf, he lives aro..."
      ]
     },
     "execution_count": 54,
     "metadata": {},
     "output_type": "execute_result"
    }
   ],
   "source": [
    "data.head()"
   ]
  },
  {
   "cell_type": "markdown",
   "id": "c4f32236",
   "metadata": {
    "papermill": {
     "duration": 0.014498,
     "end_time": "2022-09-17T17:22:08.983110",
     "exception": false,
     "start_time": "2022-09-17T17:22:08.968612",
     "status": "completed"
    },
    "tags": []
   },
   "source": [
    "💡 need to change col-names & extract nore useful information from data"
   ]
  },
  {
   "cell_type": "code",
   "execution_count": 55,
   "id": "82ffcc46",
   "metadata": {
    "execution": {
     "iopub.execute_input": "2022-09-17T17:22:09.015730Z",
     "iopub.status.busy": "2022-09-17T17:22:09.014870Z",
     "iopub.status.idle": "2022-09-17T17:22:09.038907Z",
     "shell.execute_reply": "2022-09-17T17:22:09.037694Z"
    },
    "papermill": {
     "duration": 0.043538,
     "end_time": "2022-09-17T17:22:09.041475",
     "exception": false,
     "start_time": "2022-09-17T17:22:08.997937",
     "status": "completed"
    },
    "tags": []
   },
   "outputs": [
    {
     "name": "stdout",
     "output_type": "stream",
     "text": [
      "<class 'pandas.core.frame.DataFrame'>\n",
      "RangeIndex: 5572 entries, 0 to 5571\n",
      "Data columns (total 2 columns):\n",
      " #   Column  Non-Null Count  Dtype \n",
      "---  ------  --------------  ----- \n",
      " 0   v1      5572 non-null   object\n",
      " 1   v2      5572 non-null   object\n",
      "dtypes: object(2)\n",
      "memory usage: 87.2+ KB\n"
     ]
    }
   ],
   "source": [
    "data.info()"
   ]
  },
  {
   "cell_type": "markdown",
   "id": "ad7ff188",
   "metadata": {
    "papermill": {
     "duration": 0.015401,
     "end_time": "2022-09-17T17:22:09.071761",
     "exception": false,
     "start_time": "2022-09-17T17:22:09.056360",
     "status": "completed"
    },
    "tags": []
   },
   "source": [
    "💡 I will try to make it numeric data as possible as i can in cleaning step"
   ]
  },
  {
   "cell_type": "code",
   "execution_count": 56,
   "id": "778a5dcb",
   "metadata": {
    "execution": {
     "iopub.execute_input": "2022-09-17T17:22:09.103202Z",
     "iopub.status.busy": "2022-09-17T17:22:09.102593Z",
     "iopub.status.idle": "2022-09-17T17:22:09.108035Z",
     "shell.execute_reply": "2022-09-17T17:22:09.107267Z"
    },
    "papermill": {
     "duration": 0.023597,
     "end_time": "2022-09-17T17:22:09.110064",
     "exception": false,
     "start_time": "2022-09-17T17:22:09.086467",
     "status": "completed"
    },
    "tags": []
   },
   "outputs": [
    {
     "data": {
      "text/plain": [
       "(5572, 2)"
      ]
     },
     "execution_count": 56,
     "metadata": {},
     "output_type": "execute_result"
    }
   ],
   "source": [
    "data.shape"
   ]
  },
  {
   "cell_type": "markdown",
   "id": "4a1ff70b",
   "metadata": {
    "papermill": {
     "duration": 0.014691,
     "end_time": "2022-09-17T17:22:09.140079",
     "exception": false,
     "start_time": "2022-09-17T17:22:09.125388",
     "status": "completed"
    },
    "tags": []
   },
   "source": [
    "### 🤔 is there any Duplicates ?"
   ]
  },
  {
   "cell_type": "code",
   "execution_count": 57,
   "id": "e327bfe3",
   "metadata": {
    "execution": {
     "iopub.execute_input": "2022-09-17T17:22:09.172839Z",
     "iopub.status.busy": "2022-09-17T17:22:09.172194Z",
     "iopub.status.idle": "2022-09-17T17:22:09.182492Z",
     "shell.execute_reply": "2022-09-17T17:22:09.181432Z"
    },
    "papermill": {
     "duration": 0.029809,
     "end_time": "2022-09-17T17:22:09.184769",
     "exception": false,
     "start_time": "2022-09-17T17:22:09.154960",
     "status": "completed"
    },
    "tags": []
   },
   "outputs": [
    {
     "data": {
      "text/plain": [
       "403"
      ]
     },
     "execution_count": 57,
     "metadata": {},
     "output_type": "execute_result"
    }
   ],
   "source": [
    "data.duplicated().sum()"
   ]
  },
  {
   "cell_type": "markdown",
   "id": "f6fe5313",
   "metadata": {
    "papermill": {
     "duration": 0.01501,
     "end_time": "2022-09-17T17:22:09.214859",
     "exception": false,
     "start_time": "2022-09-17T17:22:09.199849",
     "status": "completed"
    },
    "tags": []
   },
   "source": [
    "💡 must deleted in cleaning step"
   ]
  },
  {
   "cell_type": "markdown",
   "id": "11be267e",
   "metadata": {
    "papermill": {
     "duration": 0.014955,
     "end_time": "2022-09-17T17:22:09.246017",
     "exception": false,
     "start_time": "2022-09-17T17:22:09.231062",
     "status": "completed"
    },
    "tags": []
   },
   "source": [
    "### 😨 What about NaN values?"
   ]
  },
  {
   "cell_type": "code",
   "execution_count": 58,
   "id": "8b30f289",
   "metadata": {
    "execution": {
     "iopub.execute_input": "2022-09-17T17:22:09.278295Z",
     "iopub.status.busy": "2022-09-17T17:22:09.277567Z",
     "iopub.status.idle": "2022-09-17T17:22:09.285989Z",
     "shell.execute_reply": "2022-09-17T17:22:09.285157Z"
    },
    "papermill": {
     "duration": 0.027261,
     "end_time": "2022-09-17T17:22:09.288327",
     "exception": false,
     "start_time": "2022-09-17T17:22:09.261066",
     "status": "completed"
    },
    "tags": []
   },
   "outputs": [
    {
     "data": {
      "text/plain": [
       "v1    0\n",
       "v2    0\n",
       "dtype: int64"
      ]
     },
     "execution_count": 58,
     "metadata": {},
     "output_type": "execute_result"
    }
   ],
   "source": [
    "data.isnull().sum()"
   ]
  },
  {
   "cell_type": "markdown",
   "id": "5f64597c",
   "metadata": {
    "papermill": {
     "duration": 0.015188,
     "end_time": "2022-09-17T17:22:09.319112",
     "exception": false,
     "start_time": "2022-09-17T17:22:09.303924",
     "status": "completed"
    },
    "tags": []
   },
   "source": [
    "💡 no null values, Good!"
   ]
  },
  {
   "cell_type": "markdown",
   "id": "bd5ec969",
   "metadata": {
    "papermill": {
     "duration": 0.014989,
     "end_time": "2022-09-17T17:22:09.349785",
     "exception": false,
     "start_time": "2022-09-17T17:22:09.334796",
     "status": "completed"
    },
    "tags": []
   },
   "source": [
    "### 😱 is it balanced data?"
   ]
  },
  {
   "cell_type": "code",
   "execution_count": 59,
   "id": "ce441b9e",
   "metadata": {
    "execution": {
     "iopub.execute_input": "2022-09-17T17:22:09.382196Z",
     "iopub.status.busy": "2022-09-17T17:22:09.381485Z",
     "iopub.status.idle": "2022-09-17T17:22:09.391873Z",
     "shell.execute_reply": "2022-09-17T17:22:09.390763Z"
    },
    "papermill": {
     "duration": 0.029132,
     "end_time": "2022-09-17T17:22:09.394085",
     "exception": false,
     "start_time": "2022-09-17T17:22:09.364953",
     "status": "completed"
    },
    "tags": []
   },
   "outputs": [
    {
     "data": {
      "text/plain": [
       "v1\n",
       "ham     4825\n",
       "spam     747\n",
       "Name: v2, dtype: int64"
      ]
     },
     "execution_count": 59,
     "metadata": {},
     "output_type": "execute_result"
    }
   ],
   "source": [
    "classes = data.groupby('v1').count()\n",
    "classes['v2']"
   ]
  },
  {
   "cell_type": "code",
   "execution_count": 60,
   "id": "e24383be",
   "metadata": {
    "execution": {
     "iopub.execute_input": "2022-09-17T17:22:09.426452Z",
     "iopub.status.busy": "2022-09-17T17:22:09.426001Z",
     "iopub.status.idle": "2022-09-17T17:22:09.572320Z",
     "shell.execute_reply": "2022-09-17T17:22:09.571114Z"
    },
    "papermill": {
     "duration": 0.165749,
     "end_time": "2022-09-17T17:22:09.575262",
     "exception": false,
     "start_time": "2022-09-17T17:22:09.409513",
     "status": "completed"
    },
    "scrolled": true,
    "tags": []
   },
   "outputs": [
    {
     "data": {
      "text/plain": [
       "([<matplotlib.patches.Wedge at 0x1f0e240c4c8>,\n",
       "  <matplotlib.patches.Wedge at 0x1f0e24143c8>],\n",
       " [Text(-1.0461621424642782, 0.33991877217145816, 'HAM'),\n",
       "  Text(1.1412677657401706, -0.37082055887240045, 'SPAM')])"
      ]
     },
     "execution_count": 60,
     "metadata": {},
     "output_type": "execute_result"
    },
    {
     "data": {
      "image/png": "[encoded data removed]",
      "text/plain": [
       "<Figure size 640x480 with 1 Axes>"
      ]
     },
     "metadata": {},
     "output_type": "display_data"
    }
   ],
   "source": [
    "slice= list(round(data['v1'].value_counts(normalize = True), 1))\n",
    "label= [\"HAM\", \"SPAM\"]\n",
    "colors = [\"blue\", \"red\"]\n",
    "explode = [0, 0.1]\n",
    "\n",
    "plt.pie(slice, labels = label, colors = colors, explode = explode, shadow = True)"
   ]
  },
  {
   "cell_type": "markdown",
   "id": "0baa97c4",
   "metadata": {
    "papermill": {
     "duration": 0.024456,
     "end_time": "2022-09-17T17:22:09.625334",
     "exception": false,
     "start_time": "2022-09-17T17:22:09.600878",
     "status": "completed"
    },
    "tags": []
   },
   "source": [
    "💡 Unfortunately not. it is <b>im</b>Balanced data.<br>"
   ]
  },
  {
   "cell_type": "markdown",
   "id": "747c7465",
   "metadata": {
    "papermill": {
     "duration": 0.021017,
     "end_time": "2022-09-17T17:22:09.671485",
     "exception": false,
     "start_time": "2022-09-17T17:22:09.650468",
     "status": "completed"
    },
    "tags": []
   },
   "source": [
    "# 🧽 Data Cleaning | _Action begin_"
   ]
  },
  {
   "cell_type": "markdown",
   "id": "b11a11c1",
   "metadata": {
    "papermill": {
     "duration": 0.015586,
     "end_time": "2022-09-17T17:22:09.702570",
     "exception": false,
     "start_time": "2022-09-17T17:22:09.686984",
     "status": "completed"
    },
    "tags": []
   },
   "source": [
    "#### Add relevant columns Names!"
   ]
  },
  {
   "cell_type": "code",
   "execution_count": 61,
   "id": "e2845e50",
   "metadata": {
    "execution": {
     "iopub.execute_input": "2022-09-17T17:22:09.736132Z",
     "iopub.status.busy": "2022-09-17T17:22:09.735062Z",
     "iopub.status.idle": "2022-09-17T17:22:09.745930Z",
     "shell.execute_reply": "2022-09-17T17:22:09.744880Z"
    },
    "papermill": {
     "duration": 0.029882,
     "end_time": "2022-09-17T17:22:09.748052",
     "exception": false,
     "start_time": "2022-09-17T17:22:09.718170",
     "status": "completed"
    },
    "tags": []
   },
   "outputs": [
    {
     "data": {
      "text/html": [
       "<div>\n",
       "<style scoped>\n",
       "    .dataframe tbody tr th:only-of-type {\n",
       "        vertical-align: middle;\n",
       "    }\n",
       "\n",
       "    .dataframe tbody tr th {\n",
       "        vertical-align: top;\n",
       "    }\n",
       "\n",
       "    .dataframe thead th {\n",
       "        text-align: right;\n",
       "    }\n",
       "</style>\n",
       "<table border=\"1\" class=\"dataframe\">\n",
       "  <thead>\n",
       "    <tr style=\"text-align: right;\">\n",
       "      <th></th>\n",
       "      <th>class</th>\n",
       "      <th>documents</th>\n",
       "    </tr>\n",
       "  </thead>\n",
       "  <tbody>\n",
       "    <tr>\n",
       "      <th>0</th>\n",
       "      <td>ham</td>\n",
       "      <td>Go until jurong point, crazy.. Available only ...</td>\n",
       "    </tr>\n",
       "    <tr>\n",
       "      <th>1</th>\n",
       "      <td>ham</td>\n",
       "      <td>Ok lar... Joking wif u oni...</td>\n",
       "    </tr>\n",
       "  </tbody>\n",
       "</table>\n",
       "</div>"
      ],
      "text/plain": [
       "  class                                          documents\n",
       "0   ham  Go until jurong point, crazy.. Available only ...\n",
       "1   ham                      Ok lar... Joking wif u oni..."
      ]
     },
     "execution_count": 61,
     "metadata": {},
     "output_type": "execute_result"
    }
   ],
   "source": [
    "data = data.rename({\"v1\": \"class\", \"v2\": \"documents\"}, axis = 1)\n",
    "data.head(2)"
   ]
  },
  {
   "cell_type": "markdown",
   "id": "4f488f54",
   "metadata": {
    "papermill": {
     "duration": 0.01605,
     "end_time": "2022-09-17T17:22:09.780125",
     "exception": false,
     "start_time": "2022-09-17T17:22:09.764075",
     "status": "completed"
    },
    "tags": []
   },
   "source": [
    "#### transform classes into binary"
   ]
  },
  {
   "cell_type": "code",
   "execution_count": 62,
   "id": "e5fdfbea",
   "metadata": {
    "execution": {
     "iopub.execute_input": "2022-09-17T17:22:09.814771Z",
     "iopub.status.busy": "2022-09-17T17:22:09.813595Z",
     "iopub.status.idle": "2022-09-17T17:22:09.820909Z",
     "shell.execute_reply": "2022-09-17T17:22:09.819768Z"
    },
    "papermill": {
     "duration": 0.026962,
     "end_time": "2022-09-17T17:22:09.823162",
     "exception": false,
     "start_time": "2022-09-17T17:22:09.796200",
     "status": "completed"
    },
    "tags": []
   },
   "outputs": [],
   "source": [
    "data['class'] = data['class'].map({'spam' : 1, 'ham' : 0}) #simple"
   ]
  },
  {
   "cell_type": "markdown",
   "id": "4950928c",
   "metadata": {
    "papermill": {
     "duration": 0.015585,
     "end_time": "2022-09-17T17:22:09.854859",
     "exception": false,
     "start_time": "2022-09-17T17:22:09.839274",
     "status": "completed"
    },
    "tags": []
   },
   "source": [
    "✨ Done transformtion"
   ]
  },
  {
   "cell_type": "markdown",
   "id": "abdca023",
   "metadata": {
    "papermill": {
     "duration": 0.015472,
     "end_time": "2022-09-17T17:22:09.886462",
     "exception": false,
     "start_time": "2022-09-17T17:22:09.870990",
     "status": "completed"
    },
    "tags": []
   },
   "source": [
    "#### Delete Duplicated data"
   ]
  },
  {
   "cell_type": "code",
   "execution_count": 63,
   "id": "500ac137",
   "metadata": {
    "execution": {
     "iopub.execute_input": "2022-09-17T17:22:09.920392Z",
     "iopub.status.busy": "2022-09-17T17:22:09.919709Z",
     "iopub.status.idle": "2022-09-17T17:22:09.930355Z",
     "shell.execute_reply": "2022-09-17T17:22:09.929474Z"
    },
    "papermill": {
     "duration": 0.030092,
     "end_time": "2022-09-17T17:22:09.932412",
     "exception": false,
     "start_time": "2022-09-17T17:22:09.902320",
     "status": "completed"
    },
    "tags": []
   },
   "outputs": [
    {
     "data": {
      "text/plain": [
       "(5169, 2)"
      ]
     },
     "execution_count": 63,
     "metadata": {},
     "output_type": "execute_result"
    }
   ],
   "source": [
    "data.drop_duplicates(keep = 'first', inplace = True)\n",
    "data.shape"
   ]
  },
  {
   "cell_type": "markdown",
   "id": "84904c95",
   "metadata": {
    "papermill": {
     "duration": 0.016014,
     "end_time": "2022-09-17T17:22:09.964768",
     "exception": false,
     "start_time": "2022-09-17T17:22:09.948754",
     "status": "completed"
    },
    "tags": []
   },
   "source": [
    "✨ duplicated data solved"
   ]
  },
  {
   "cell_type": "markdown",
   "id": "8733113b",
   "metadata": {
    "papermill": {
     "duration": 0.015645,
     "end_time": "2022-09-17T17:22:09.997106",
     "exception": false,
     "start_time": "2022-09-17T17:22:09.981461",
     "status": "completed"
    },
    "tags": []
   },
   "source": [
    "#### Apply UnderSampling"
   ]
  },
  {
   "cell_type": "markdown",
   "id": "3446ea7d",
   "metadata": {
    "papermill": {
     "duration": 0.015691,
     "end_time": "2022-09-17T17:22:10.028731",
     "exception": false,
     "start_time": "2022-09-17T17:22:10.013040",
     "status": "completed"
    },
    "tags": []
   },
   "source": [
    "<img src= \"https://raw.githubusercontent.com/rafjaa/machine_learning_fecib/master/src/static/img/resampling.png\"  alt =\"Diabetes\" style='width: 600px;' align=\"left\" >"
   ]
  },
  {
   "cell_type": "code",
   "execution_count": 64,
   "id": "c0625d5e",
   "metadata": {
    "execution": {
     "iopub.execute_input": "2022-09-17T17:22:10.063502Z",
     "iopub.status.busy": "2022-09-17T17:22:10.062813Z",
     "iopub.status.idle": "2022-09-17T17:22:10.074986Z",
     "shell.execute_reply": "2022-09-17T17:22:10.073785Z"
    },
    "papermill": {
     "duration": 0.032389,
     "end_time": "2022-09-17T17:22:10.077117",
     "exception": false,
     "start_time": "2022-09-17T17:22:10.044728",
     "status": "completed"
    },
    "tags": []
   },
   "outputs": [
    {
     "data": {
      "text/plain": [
       "(1306, 2)"
      ]
     },
     "execution_count": 64,
     "metadata": {},
     "output_type": "execute_result"
    }
   ],
   "source": [
    "counts_class_0, counts_class_1 = data['class'].value_counts() \n",
    "\n",
    "data_c0 = data[data['class'] == 0]\n",
    "data_c1 = data[data['class'] == 1]\n",
    "\n",
    "data_under_c0 = data_c0.sample(counts_class_1, random_state = 42)\n",
    "\n",
    "data_under = pd.concat([data_under_c0, data_c1], axis = 0)\n",
    "\n",
    "data_under.shape"
   ]
  },
  {
   "cell_type": "code",
   "execution_count": 65,
   "id": "88826b19",
   "metadata": {
    "execution": {
     "iopub.execute_input": "2022-09-17T17:22:10.111194Z",
     "iopub.status.busy": "2022-09-17T17:22:10.110784Z",
     "iopub.status.idle": "2022-09-17T17:22:10.206301Z",
     "shell.execute_reply": "2022-09-17T17:22:10.205016Z"
    },
    "papermill": {
     "duration": 0.116099,
     "end_time": "2022-09-17T17:22:10.209520",
     "exception": false,
     "start_time": "2022-09-17T17:22:10.093421",
     "status": "completed"
    },
    "tags": []
   },
   "outputs": [
    {
     "name": "stdout",
     "output_type": "stream",
     "text": [
      "0    653\n",
      "1    653\n",
      "Name: class, dtype: int64\n"
     ]
    },
    {
     "data": {
      "text/plain": [
       "([<matplotlib.patches.Wedge at 0x1f0e245ef08>,\n",
       "  <matplotlib.patches.Wedge at 0x1f0e2467e08>],\n",
       " [Text(-1.1, 1.3471114790620887e-16, 'HAM'),\n",
       "  Text(1.1, -2.6942229581241775e-16, 'SPAM')])"
      ]
     },
     "execution_count": 65,
     "metadata": {},
     "output_type": "execute_result"
    },
    {
     "data": {
      "image/png": "[encoded data removed]",
      "text/plain": [
       "<Figure size 640x480 with 1 Axes>"
      ]
     },
     "metadata": {},
     "output_type": "display_data"
    }
   ],
   "source": [
    "view = data_under['class'].value_counts()\n",
    "\n",
    "slice= list(round(view, 1))\n",
    "label= [\"HAM\", \"SPAM\"]\n",
    "colors = [\"blue\", \"red\"]\n",
    "\n",
    "print(view)\n",
    "plt.pie(slice, labels = label, colors = colors, shadow = True, startangle  = 90)"
   ]
  },
  {
   "cell_type": "markdown",
   "id": "e3628414",
   "metadata": {
    "papermill": {
     "duration": 0.026004,
     "end_time": "2022-09-17T17:22:10.263181",
     "exception": false,
     "start_time": "2022-09-17T17:22:10.237177",
     "status": "completed"
    },
    "tags": []
   },
   "source": [
    "✨ Now it became <b>Balanced Data</b>"
   ]
  },
  {
   "cell_type": "markdown",
   "id": "377a1350",
   "metadata": {
    "papermill": {
     "duration": 0.021477,
     "end_time": "2022-09-17T17:22:10.311401",
     "exception": false,
     "start_time": "2022-09-17T17:22:10.289924",
     "status": "completed"
    },
    "tags": []
   },
   "source": [
    "----------------------------------------------------------------\n",
    "\n",
    "### EDA: how is bigger spam messages or Ham messages ? \n",
    "\n",
    "----------------------------------------------------------------"
   ]
  },
  {
   "cell_type": "markdown",
   "id": "4cc1864b",
   "metadata": {
    "papermill": {
     "duration": 0.016496,
     "end_time": "2022-09-17T17:22:10.344651",
     "exception": false,
     "start_time": "2022-09-17T17:22:10.328155",
     "status": "completed"
    },
    "tags": []
   },
   "source": [
    "#### getting numbers of characters"
   ]
  },
  {
   "cell_type": "code",
   "execution_count": 66,
   "id": "1e21ad5e",
   "metadata": {
    "execution": {
     "iopub.execute_input": "2022-09-17T17:22:10.380188Z",
     "iopub.status.busy": "2022-09-17T17:22:10.379105Z",
     "iopub.status.idle": "2022-09-17T17:22:10.387940Z",
     "shell.execute_reply": "2022-09-17T17:22:10.386877Z"
    },
    "papermill": {
     "duration": 0.028781,
     "end_time": "2022-09-17T17:22:10.390032",
     "exception": false,
     "start_time": "2022-09-17T17:22:10.361251",
     "status": "completed"
    },
    "tags": []
   },
   "outputs": [
    {
     "data": {
      "text/plain": [
       "Index(['class', 'documents'], dtype='object')"
      ]
     },
     "execution_count": 66,
     "metadata": {},
     "output_type": "execute_result"
    }
   ],
   "source": [
    "data_under['Nom_chars'] = data_under['documents'].str.len()\n",
    "data.columns"
   ]
  },
  {
   "cell_type": "markdown",
   "id": "348d42c9",
   "metadata": {
    "papermill": {
     "duration": 0.016651,
     "end_time": "2022-09-17T17:22:10.423803",
     "exception": false,
     "start_time": "2022-09-17T17:22:10.407152",
     "status": "completed"
    },
    "tags": []
   },
   "source": [
    "#### getting numbers of words"
   ]
  },
  {
   "cell_type": "code",
   "execution_count": 67,
   "id": "f048d5ac",
   "metadata": {
    "execution": {
     "iopub.execute_input": "2022-09-17T17:22:10.459173Z",
     "iopub.status.busy": "2022-09-17T17:22:10.458459Z",
     "iopub.status.idle": "2022-09-17T17:22:10.471487Z",
     "shell.execute_reply": "2022-09-17T17:22:10.470298Z"
    },
    "papermill": {
     "duration": 0.033114,
     "end_time": "2022-09-17T17:22:10.473859",
     "exception": false,
     "start_time": "2022-09-17T17:22:10.440745",
     "status": "completed"
    },
    "tags": []
   },
   "outputs": [
    {
     "data": {
      "text/plain": [
       "Index(['class', 'documents', 'Nom_chars', 'Nom_words'], dtype='object')"
      ]
     },
     "execution_count": 67,
     "metadata": {},
     "output_type": "execute_result"
    }
   ],
   "source": [
    "data_under['Nom_words'] = data_under['documents'].str.split().apply(len)\n",
    "data_under.columns"
   ]
  },
  {
   "cell_type": "markdown",
   "id": "868cfeea",
   "metadata": {
    "papermill": {
     "duration": 0.016511,
     "end_time": "2022-09-17T17:22:10.507326",
     "exception": false,
     "start_time": "2022-09-17T17:22:10.490815",
     "status": "completed"
    },
    "tags": []
   },
   "source": [
    "# 🔍 Exploratory Data Analysis (2)"
   ]
  },
  {
   "cell_type": "code",
   "execution_count": 68,
   "id": "b1855efe",
   "metadata": {
    "execution": {
     "iopub.execute_input": "2022-09-17T17:22:10.542770Z",
     "iopub.status.busy": "2022-09-17T17:22:10.542104Z",
     "iopub.status.idle": "2022-09-17T17:22:10.566367Z",
     "shell.execute_reply": "2022-09-17T17:22:10.565123Z"
    },
    "papermill": {
     "duration": 0.044601,
     "end_time": "2022-09-17T17:22:10.568809",
     "exception": false,
     "start_time": "2022-09-17T17:22:10.524208",
     "status": "completed"
    },
    "tags": []
   },
   "outputs": [
    {
     "data": {
      "text/html": [
       "<div>\n",
       "<style scoped>\n",
       "    .dataframe tbody tr th:only-of-type {\n",
       "        vertical-align: middle;\n",
       "    }\n",
       "\n",
       "    .dataframe tbody tr th {\n",
       "        vertical-align: top;\n",
       "    }\n",
       "\n",
       "    .dataframe thead th {\n",
       "        text-align: right;\n",
       "    }\n",
       "</style>\n",
       "<table border=\"1\" class=\"dataframe\">\n",
       "  <thead>\n",
       "    <tr style=\"text-align: right;\">\n",
       "      <th></th>\n",
       "      <th>class</th>\n",
       "      <th>Nom_chars</th>\n",
       "      <th>Nom_words</th>\n",
       "    </tr>\n",
       "  </thead>\n",
       "  <tbody>\n",
       "    <tr>\n",
       "      <th>count</th>\n",
       "      <td>1306.0</td>\n",
       "      <td>1306.0</td>\n",
       "      <td>1306.0</td>\n",
       "    </tr>\n",
       "    <tr>\n",
       "      <th>mean</th>\n",
       "      <td>0.0</td>\n",
       "      <td>104.0</td>\n",
       "      <td>19.0</td>\n",
       "    </tr>\n",
       "    <tr>\n",
       "      <th>std</th>\n",
       "      <td>1.0</td>\n",
       "      <td>57.0</td>\n",
       "      <td>10.0</td>\n",
       "    </tr>\n",
       "    <tr>\n",
       "      <th>min</th>\n",
       "      <td>0.0</td>\n",
       "      <td>2.0</td>\n",
       "      <td>1.0</td>\n",
       "    </tr>\n",
       "    <tr>\n",
       "      <th>25%</th>\n",
       "      <td>0.0</td>\n",
       "      <td>48.0</td>\n",
       "      <td>10.0</td>\n",
       "    </tr>\n",
       "    <tr>\n",
       "      <th>50%</th>\n",
       "      <td>0.0</td>\n",
       "      <td>115.0</td>\n",
       "      <td>20.0</td>\n",
       "    </tr>\n",
       "    <tr>\n",
       "      <th>75%</th>\n",
       "      <td>1.0</td>\n",
       "      <td>152.0</td>\n",
       "      <td>26.0</td>\n",
       "    </tr>\n",
       "    <tr>\n",
       "      <th>max</th>\n",
       "      <td>1.0</td>\n",
       "      <td>588.0</td>\n",
       "      <td>125.0</td>\n",
       "    </tr>\n",
       "  </tbody>\n",
       "</table>\n",
       "</div>"
      ],
      "text/plain": [
       "        class  Nom_chars  Nom_words\n",
       "count  1306.0     1306.0     1306.0\n",
       "mean      0.0      104.0       19.0\n",
       "std       1.0       57.0       10.0\n",
       "min       0.0        2.0        1.0\n",
       "25%       0.0       48.0       10.0\n",
       "50%       0.0      115.0       20.0\n",
       "75%       1.0      152.0       26.0\n",
       "max       1.0      588.0      125.0"
      ]
     },
     "execution_count": 68,
     "metadata": {},
     "output_type": "execute_result"
    }
   ],
   "source": [
    "data_under.describe().apply(round)"
   ]
  },
  {
   "cell_type": "code",
   "execution_count": 69,
   "id": "64fc5f44",
   "metadata": {
    "execution": {
     "iopub.execute_input": "2022-09-17T17:22:10.605284Z",
     "iopub.status.busy": "2022-09-17T17:22:10.604501Z",
     "iopub.status.idle": "2022-09-17T17:22:10.869651Z",
     "shell.execute_reply": "2022-09-17T17:22:10.868456Z"
    },
    "papermill": {
     "duration": 0.286143,
     "end_time": "2022-09-17T17:22:10.872065",
     "exception": false,
     "start_time": "2022-09-17T17:22:10.585922",
     "status": "completed"
    },
    "tags": []
   },
   "outputs": [
    {
     "data": {
      "text/plain": [
       "<AxesSubplot:>"
      ]
     },
     "execution_count": 69,
     "metadata": {},
     "output_type": "execute_result"
    },
    {
     "data": {
      "image/png": "[encoded data removed]",
      "text/plain": [
       "<Figure size 1000x500 with 2 Axes>"
      ]
     },
     "metadata": {},
     "output_type": "display_data"
    }
   ],
   "source": [
    "corel = data_under.corr(method = 'pearson').abs()\n",
    "fig = plt.figure(figsize=(10,5))\n",
    "sns.heatmap(corel, annot = True)"
   ]
  },
  {
   "cell_type": "code",
   "execution_count": 70,
   "id": "0bb9e9f0",
   "metadata": {
    "execution": {
     "iopub.execute_input": "2022-09-17T17:22:10.909379Z",
     "iopub.status.busy": "2022-09-17T17:22:10.908937Z",
     "iopub.status.idle": "2022-09-17T17:22:10.941499Z",
     "shell.execute_reply": "2022-09-17T17:22:10.940313Z"
    },
    "papermill": {
     "duration": 0.053892,
     "end_time": "2022-09-17T17:22:10.944075",
     "exception": false,
     "start_time": "2022-09-17T17:22:10.890183",
     "status": "completed"
    },
    "tags": []
   },
   "outputs": [
    {
     "data": {
      "text/html": [
       "<div>\n",
       "<style scoped>\n",
       "    .dataframe tbody tr th:only-of-type {\n",
       "        vertical-align: middle;\n",
       "    }\n",
       "\n",
       "    .dataframe tbody tr th {\n",
       "        vertical-align: top;\n",
       "    }\n",
       "\n",
       "    .dataframe thead tr th {\n",
       "        text-align: left;\n",
       "    }\n",
       "\n",
       "    .dataframe thead tr:last-of-type th {\n",
       "        text-align: right;\n",
       "    }\n",
       "</style>\n",
       "<table border=\"1\" class=\"dataframe\">\n",
       "  <thead>\n",
       "    <tr>\n",
       "      <th></th>\n",
       "      <th colspan=\"3\" halign=\"left\">Nom_chars</th>\n",
       "      <th colspan=\"3\" halign=\"left\">Nom_words</th>\n",
       "    </tr>\n",
       "    <tr>\n",
       "      <th></th>\n",
       "      <th>mean</th>\n",
       "      <th>amin</th>\n",
       "      <th>amax</th>\n",
       "      <th>mean</th>\n",
       "      <th>amin</th>\n",
       "      <th>amax</th>\n",
       "    </tr>\n",
       "    <tr>\n",
       "      <th>class</th>\n",
       "      <th></th>\n",
       "      <th></th>\n",
       "      <th></th>\n",
       "      <th></th>\n",
       "      <th></th>\n",
       "      <th></th>\n",
       "    </tr>\n",
       "  </thead>\n",
       "  <tbody>\n",
       "    <tr>\n",
       "      <th>0</th>\n",
       "      <td>70.0</td>\n",
       "      <td>2</td>\n",
       "      <td>588</td>\n",
       "      <td>14.0</td>\n",
       "      <td>1</td>\n",
       "      <td>125</td>\n",
       "    </tr>\n",
       "    <tr>\n",
       "      <th>1</th>\n",
       "      <td>138.0</td>\n",
       "      <td>13</td>\n",
       "      <td>224</td>\n",
       "      <td>24.0</td>\n",
       "      <td>2</td>\n",
       "      <td>35</td>\n",
       "    </tr>\n",
       "  </tbody>\n",
       "</table>\n",
       "</div>"
      ],
      "text/plain": [
       "      Nom_chars           Nom_words          \n",
       "           mean amin amax      mean amin amax\n",
       "class                                        \n",
       "0          70.0    2  588      14.0    1  125\n",
       "1         138.0   13  224      24.0    2   35"
      ]
     },
     "execution_count": 70,
     "metadata": {},
     "output_type": "execute_result"
    }
   ],
   "source": [
    "round(data_under.groupby('class').agg([np.mean,np.min,np.max]))"
   ]
  },
  {
   "cell_type": "code",
   "execution_count": 71,
   "id": "7492fb55",
   "metadata": {
    "execution": {
     "iopub.execute_input": "2022-09-17T17:22:10.981979Z",
     "iopub.status.busy": "2022-09-17T17:22:10.981571Z",
     "iopub.status.idle": "2022-09-17T17:22:11.226454Z",
     "shell.execute_reply": "2022-09-17T17:22:11.225269Z"
    },
    "papermill": {
     "duration": 0.266545,
     "end_time": "2022-09-17T17:22:11.228878",
     "exception": false,
     "start_time": "2022-09-17T17:22:10.962333",
     "status": "completed"
    },
    "tags": []
   },
   "outputs": [
    {
     "data": {
      "image/png": "[encoded data removed]",
      "text/plain": [
       "<Figure size 900x800 with 1 Axes>"
      ]
     },
     "metadata": {},
     "output_type": "display_data"
    }
   ],
   "source": [
    "avg = data_under.groupby('class').mean()\n",
    "\n",
    "avg.plot(kind='bar',figsize = (9, 8),title='ham VS spam', color = ['blue', 'red'])\n",
    "plt.grid(True)"
   ]
  },
  {
   "cell_type": "markdown",
   "id": "21e6af07",
   "metadata": {
    "papermill": {
     "duration": 0.017795,
     "end_time": "2022-09-17T17:22:11.265603",
     "exception": false,
     "start_time": "2022-09-17T17:22:11.247808",
     "status": "completed"
    },
    "tags": []
   },
   "source": [
    "it shows that spam messages (= 1) has more numbers of characters and words. <br>\n",
    "💡 <b>So Spam messages seems larger than Ham</b>"
   ]
  },
  {
   "cell_type": "markdown",
   "id": "5fbeaa27",
   "metadata": {
    "papermill": {
     "duration": 0.017803,
     "end_time": "2022-09-17T17:22:11.301848",
     "exception": false,
     "start_time": "2022-09-17T17:22:11.284045",
     "status": "completed"
    },
    "tags": []
   },
   "source": [
    "# 🎬 Preprocessing Data"
   ]
  },
  {
   "cell_type": "markdown",
   "id": "a4171449",
   "metadata": {
    "papermill": {
     "duration": 0.018198,
     "end_time": "2022-09-17T17:22:11.338465",
     "exception": false,
     "start_time": "2022-09-17T17:22:11.320267",
     "status": "completed"
    },
    "tags": []
   },
   "source": [
    "#### Lower case"
   ]
  },
  {
   "cell_type": "code",
   "execution_count": 72,
   "id": "a094f9dc",
   "metadata": {
    "execution": {
     "iopub.execute_input": "2022-09-17T17:22:11.377111Z",
     "iopub.status.busy": "2022-09-17T17:22:11.376665Z",
     "iopub.status.idle": "2022-09-17T17:22:11.384228Z",
     "shell.execute_reply": "2022-09-17T17:22:11.382928Z"
    },
    "papermill": {
     "duration": 0.029755,
     "end_time": "2022-09-17T17:22:11.386424",
     "exception": false,
     "start_time": "2022-09-17T17:22:11.356669",
     "status": "completed"
    },
    "tags": []
   },
   "outputs": [],
   "source": [
    "data_under['pre_pro_doc'] = data_under['documents'].str.lower()"
   ]
  },
  {
   "cell_type": "markdown",
   "id": "0abb1729",
   "metadata": {
    "papermill": {
     "duration": 0.017762,
     "end_time": "2022-09-17T17:22:11.422339",
     "exception": false,
     "start_time": "2022-09-17T17:22:11.404577",
     "status": "completed"
    },
    "tags": []
   },
   "source": [
    "#### delete punctuations"
   ]
  },
  {
   "cell_type": "code",
   "execution_count": 73,
   "id": "ec32f730",
   "metadata": {
    "execution": {
     "iopub.execute_input": "2022-09-17T17:22:11.460317Z",
     "iopub.status.busy": "2022-09-17T17:22:11.459486Z",
     "iopub.status.idle": "2022-09-17T17:22:11.472593Z",
     "shell.execute_reply": "2022-09-17T17:22:11.471679Z"
    },
    "papermill": {
     "duration": 0.034974,
     "end_time": "2022-09-17T17:22:11.475310",
     "exception": false,
     "start_time": "2022-09-17T17:22:11.440336",
     "status": "completed"
    },
    "tags": []
   },
   "outputs": [],
   "source": [
    "data_under['pre_pro_doc'] = data_under['pre_pro_doc'].str.replace(r'[^\\w\\s]+', '')"
   ]
  },
  {
   "cell_type": "markdown",
   "id": "8daaf127",
   "metadata": {
    "papermill": {
     "duration": 0.017532,
     "end_time": "2022-09-17T17:22:11.511005",
     "exception": false,
     "start_time": "2022-09-17T17:22:11.493473",
     "status": "completed"
    },
    "tags": []
   },
   "source": [
    "#### removing stop words using tockenization"
   ]
  },
  {
   "cell_type": "code",
   "execution_count": 74,
   "id": "b21bd12f",
   "metadata": {
    "execution": {
     "iopub.execute_input": "2022-09-17T17:22:11.549169Z",
     "iopub.status.busy": "2022-09-17T17:22:11.548167Z",
     "iopub.status.idle": "2022-09-17T17:22:12.247720Z",
     "shell.execute_reply": "2022-09-17T17:22:12.246529Z"
    },
    "papermill": {
     "duration": 0.721381,
     "end_time": "2022-09-17T17:22:12.250280",
     "exception": false,
     "start_time": "2022-09-17T17:22:11.528899",
     "status": "completed"
    },
    "tags": []
   },
   "outputs": [
    {
     "name": "stderr",
     "output_type": "stream",
     "text": [
      "[nltk_data] Error loading stopwords: <urlopen error [Errno 11001]\n",
      "[nltk_data]     getaddrinfo failed>\n"
     ]
    }
   ],
   "source": [
    "import nltk\n",
    "nltk.download('stopwords')\n",
    "from nltk.corpus import stopwords\n",
    "\n",
    "stop = stopwords.words('english')\n",
    "\n",
    "data_under['pre_pro_doc'] = data_under['pre_pro_doc'].apply(lambda x: ' '.join([word for word in x.split() if word not in (stop) ]))"
   ]
  },
  {
   "cell_type": "markdown",
   "id": "811e9281",
   "metadata": {
    "papermill": {
     "duration": 0.017652,
     "end_time": "2022-09-17T17:22:12.286214",
     "exception": false,
     "start_time": "2022-09-17T17:22:12.268562",
     "status": "completed"
    },
    "tags": []
   },
   "source": [
    "Perfect! we Got preprocessed data"
   ]
  },
  {
   "cell_type": "markdown",
   "id": "9f951406",
   "metadata": {
    "papermill": {
     "duration": 0.01785,
     "end_time": "2022-09-17T17:22:12.321959",
     "exception": false,
     "start_time": "2022-09-17T17:22:12.304109",
     "status": "completed"
    },
    "tags": []
   },
   "source": [
    "# 🏗️ Model Building"
   ]
  },
  {
   "cell_type": "markdown",
   "id": "b9601c69",
   "metadata": {
    "papermill": {
     "duration": 0.0176,
     "end_time": "2022-09-17T17:22:12.357496",
     "exception": false,
     "start_time": "2022-09-17T17:22:12.339896",
     "status": "completed"
    },
    "tags": []
   },
   "source": [
    "#### Bag of Words & Splitting data"
   ]
  },
  {
   "cell_type": "code",
   "execution_count": 75,
   "id": "b40d91f0",
   "metadata": {
    "execution": {
     "iopub.execute_input": "2022-09-17T17:22:12.396311Z",
     "iopub.status.busy": "2022-09-17T17:22:12.395842Z",
     "iopub.status.idle": "2022-09-17T17:22:12.433010Z",
     "shell.execute_reply": "2022-09-17T17:22:12.431891Z"
    },
    "papermill": {
     "duration": 0.060214,
     "end_time": "2022-09-17T17:22:12.435746",
     "exception": false,
     "start_time": "2022-09-17T17:22:12.375532",
     "status": "completed"
    },
    "tags": []
   },
   "outputs": [],
   "source": [
    "count_vec  = CountVectorizer()\n",
    "\n",
    "X_train, X_test, y_train, y_test = train_test_split(data_under['pre_pro_doc'], data_under[\"class\"], test_size = 0.2)\n",
    "\n",
    "training_data = count_vec.fit_transform(X_train)\n",
    "\n",
    "testing_data = count_vec.transform(X_test)"
   ]
  },
  {
   "cell_type": "markdown",
   "id": "2a07ac0d",
   "metadata": {
    "papermill": {
     "duration": 0.017936,
     "end_time": "2022-09-17T17:22:12.472444",
     "exception": false,
     "start_time": "2022-09-17T17:22:12.454508",
     "status": "completed"
    },
    "tags": []
   },
   "source": [
    "#### Build & Train algorithm"
   ]
  },
  {
   "cell_type": "code",
   "execution_count": 76,
   "id": "2aaee6ba",
   "metadata": {
    "execution": {
     "iopub.execute_input": "2022-09-17T17:22:12.510773Z",
     "iopub.status.busy": "2022-09-17T17:22:12.510332Z",
     "iopub.status.idle": "2022-09-17T17:22:12.518596Z",
     "shell.execute_reply": "2022-09-17T17:22:12.517636Z"
    },
    "papermill": {
     "duration": 0.030539,
     "end_time": "2022-09-17T17:22:12.521147",
     "exception": false,
     "start_time": "2022-09-17T17:22:12.490608",
     "status": "completed"
    },
    "tags": []
   },
   "outputs": [],
   "source": [
    "naive_bayes = MultinomialNB()\n",
    "\n",
    "naive_bayes.fit(training_data, y_train)\n",
    "\n",
    "predictions = naive_bayes.predict(testing_data)"
   ]
  },
  {
   "cell_type": "markdown",
   "id": "b25ac961",
   "metadata": {
    "papermill": {
     "duration": 0.018266,
     "end_time": "2022-09-17T17:22:12.558051",
     "exception": false,
     "start_time": "2022-09-17T17:22:12.539785",
     "status": "completed"
    },
    "tags": []
   },
   "source": [
    "# 📏 Performance Measurement"
   ]
  },
  {
   "cell_type": "markdown",
   "id": "99793cba",
   "metadata": {
    "papermill": {
     "duration": 0.018238,
     "end_time": "2022-09-17T17:22:12.595560",
     "exception": false,
     "start_time": "2022-09-17T17:22:12.577322",
     "status": "completed"
    },
    "tags": []
   },
   "source": [
    "#### Checking ROC curve | Quality of Splitting"
   ]
  },
  {
   "cell_type": "code",
   "execution_count": 77,
   "id": "5ba7b44c",
   "metadata": {
    "execution": {
     "iopub.execute_input": "2022-09-17T17:22:12.634722Z",
     "iopub.status.busy": "2022-09-17T17:22:12.634302Z",
     "iopub.status.idle": "2022-09-17T17:22:12.805496Z",
     "shell.execute_reply": "2022-09-17T17:22:12.804308Z"
    },
    "papermill": {
     "duration": 0.193906,
     "end_time": "2022-09-17T17:22:12.807861",
     "exception": false,
     "start_time": "2022-09-17T17:22:12.613955",
     "status": "completed"
    },
    "tags": []
   },
   "outputs": [
    {
     "data": {
      "image/png": "[encoded data removed]",
      "text/plain": [
       "<Figure size 640x480 with 1 Axes>"
      ]
     },
     "metadata": {},
     "output_type": "display_data"
    }
   ],
   "source": [
    "#checking how good splitting it is:\n",
    "from sklearn.metrics import roc_curve\n",
    "\n",
    "y_pred_proba = naive_bayes.predict_proba(testing_data)[::,1]\n",
    "fpr, tpr, _ = roc_curve(y_test,  y_pred_proba)\n",
    "\n",
    "#create ROC curve\n",
    "\n",
    "plt.plot(fpr,tpr)\n",
    "plt.ylabel('True Positive Rate')\n",
    "plt.xlabel('False Positive Rate')\n",
    "plt.show()"
   ]
  },
  {
   "cell_type": "markdown",
   "id": "fc24b3be",
   "metadata": {
    "papermill": {
     "duration": 0.017639,
     "end_time": "2022-09-17T17:22:12.844366",
     "exception": false,
     "start_time": "2022-09-17T17:22:12.826727",
     "status": "completed"
    },
    "tags": []
   },
   "source": [
    "💡 Roc curve show high performance on spiltting data"
   ]
  },
  {
   "cell_type": "markdown",
   "id": "50055dea",
   "metadata": {
    "papermill": {
     "duration": 0.017491,
     "end_time": "2022-09-17T17:22:12.915427",
     "exception": false,
     "start_time": "2022-09-17T17:22:12.897936",
     "status": "completed"
    },
    "tags": []
   },
   "source": [
    "#### checking perfromance | Accuracy, Precison..etc"
   ]
  },
  {
   "cell_type": "code",
   "execution_count": 78,
   "id": "5b95cdee",
   "metadata": {
    "execution": {
     "iopub.execute_input": "2022-09-17T17:22:12.953540Z",
     "iopub.status.busy": "2022-09-17T17:22:12.952720Z",
     "iopub.status.idle": "2022-09-17T17:22:13.193362Z",
     "shell.execute_reply": "2022-09-17T17:22:13.192008Z"
    },
    "papermill": {
     "duration": 0.262492,
     "end_time": "2022-09-17T17:22:13.195796",
     "exception": false,
     "start_time": "2022-09-17T17:22:12.933304",
     "status": "completed"
    },
    "tags": []
   },
   "outputs": [
    {
     "name": "stdout",
     "output_type": "stream",
     "text": [
      "              precision    recall  f1-score   support\n",
      "\n",
      "         Ham       0.94      0.90      0.92       134\n",
      "        Spam       0.90      0.95      0.92       128\n",
      "\n",
      "    accuracy                           0.92       262\n",
      "   macro avg       0.92      0.92      0.92       262\n",
      "weighted avg       0.92      0.92      0.92       262\n",
      "\n"
     ]
    },
    {
     "data": {
      "text/plain": [
       "<AxesSubplot:>"
      ]
     },
     "execution_count": 78,
     "metadata": {},
     "output_type": "execute_result"
    },
    {
     "data": {
      "image/png": "[encoded data removed]",
      "text/plain": [
       "<Figure size 640x480 with 2 Axes>"
      ]
     },
     "metadata": {},
     "output_type": "display_data"
    }
   ],
   "source": [
    "from sklearn.metrics import classification_report, confusion_matrix\n",
    "\n",
    "#Report Printing\n",
    "print(classification_report(y_test,predictions,target_names=['Ham','Spam']))\n",
    "\n",
    "#Confusion Matrix\n",
    "conv = confusion_matrix(y_test, predictions)\n",
    "sns.heatmap(conv, annot = True, annot_kws = {\"size\" : 16})"
   ]
  },
  {
   "cell_type": "code",
   "execution_count": null,
   "id": "2665e482",
   "metadata": {},
   "outputs": [],
   "source": []
  },
  {
   "cell_type": "markdown",
   "id": "57538950",
   "metadata": {
    "papermill": {
     "duration": 0.018897,
     "end_time": "2022-09-17T17:22:13.233722",
     "exception": false,
     "start_time": "2022-09-17T17:22:13.214825",
     "status": "completed"
    },
    "tags": []
   },
   "source": [
    "💡 from Confusion Matrix it shows that algorithm perfect classify spam and Ham pretty well !"
   ]
  },
  {
   "cell_type": "markdown",
   "id": "803cde30",
   "metadata": {
    "papermill": {
     "duration": 0.018195,
     "end_time": "2022-09-17T17:22:13.270516",
     "exception": false,
     "start_time": "2022-09-17T17:22:13.252321",
     "status": "completed"
    },
    "tags": []
   },
   "source": [
    "💡 Notice:<br> here we are more interested in  Precision becuause its focus on predictive positive that include<br> \n",
    "   false positive which is more importat than others for spam filtering"
   ]
  },
  {
   "cell_type": "markdown",
   "id": "6168ae3b",
   "metadata": {
    "papermill": {
     "duration": 0.018299,
     "end_time": "2022-09-17T17:22:13.307380",
     "exception": false,
     "start_time": "2022-09-17T17:22:13.289081",
     "status": "completed"
    },
    "tags": []
   },
   "source": [
    "# 💯👌 Cross Validation"
   ]
  },
  {
   "cell_type": "markdown",
   "id": "fdff9b0e",
   "metadata": {
    "papermill": {
     "duration": 0.018059,
     "end_time": "2022-09-17T17:22:13.343946",
     "exception": false,
     "start_time": "2022-09-17T17:22:13.325887",
     "status": "completed"
    },
    "tags": []
   },
   "source": [
    "above we see that measuring perfromance change every time runing code.<br>\n",
    "so i applied cross validation to get the best possible result.<br>\n",
    "\n",
    "i also want to get classifiaction report for best mesured performance<br>\n",
    "and  its confusion matrix so i created that function below to do that !"
   ]
  },
  {
   "cell_type": "code",
   "execution_count": 79,
   "id": "56d6d0d6",
   "metadata": {
    "execution": {
     "iopub.execute_input": "2022-09-17T17:22:13.383008Z",
     "iopub.status.busy": "2022-09-17T17:22:13.382336Z",
     "iopub.status.idle": "2022-09-17T17:22:13.387931Z",
     "shell.execute_reply": "2022-09-17T17:22:13.387052Z"
    },
    "papermill": {
     "duration": 0.027758,
     "end_time": "2022-09-17T17:22:13.390041",
     "exception": false,
     "start_time": "2022-09-17T17:22:13.362283",
     "status": "completed"
    },
    "tags": []
   },
   "outputs": [],
   "source": [
    "tprs = [] #ROC\n",
    "aucs = [] #AUC\n",
    "class_repo_lst = [] #Classification reports\n",
    "acc_repo = [] #accuracies\n",
    "conv_lst = [] #Confusion matrices\n",
    "accruacy_scores_lst = []"
   ]
  },
  {
   "cell_type": "code",
   "execution_count": 80,
   "id": "c85edb7a",
   "metadata": {
    "execution": {
     "iopub.execute_input": "2022-09-17T17:22:13.429305Z",
     "iopub.status.busy": "2022-09-17T17:22:13.428634Z",
     "iopub.status.idle": "2022-09-17T17:22:13.446931Z",
     "shell.execute_reply": "2022-09-17T17:22:13.445962Z"
    },
    "papermill": {
     "duration": 0.040896,
     "end_time": "2022-09-17T17:22:13.449312",
     "exception": false,
     "start_time": "2022-09-17T17:22:13.408416",
     "status": "completed"
    },
    "tags": []
   },
   "outputs": [],
   "source": [
    "from sklearn.metrics import accuracy_score\n",
    "\n",
    "def cross_validate_Model(classifier ,choice):\n",
    "    '''\n",
    "    parameters : \n",
    "    \n",
    "     1- classifier : Algorithm to train\n",
    "     2- choice : choose what you see.\n",
    "                 - 'r': Report classifation & Roc_Curve\n",
    "                 - 'c': Confusion Matrix\n",
    "    '''\n",
    "    \n",
    "    #----------Data------------------\n",
    "    X = np.array(data_under[\"pre_pro_doc\"])\n",
    "    y = np.array(data_under['class'])\n",
    "    X, y = X[y != 2], y[y != 2]\n",
    "    #----------Variables-------------\n",
    "    cv = StratifiedKFold(n_splits=20)\n",
    "    mean_fpr = np.linspace(0, 1, 100)\n",
    "\n",
    "    #--------------------------------\n",
    "    fig, ax = plt.subplots()\n",
    "    vec = CountVectorizer()\n",
    "\n",
    "    for i, (train, test) in enumerate(cv.split(X, y)):\n",
    "        \n",
    "        \n",
    "        training_data = vec.fit_transform(X[train])\n",
    "        \n",
    "        testing_data = vec.transform(X[test])\n",
    "        jb.dump(vec,'vec.sav')\n",
    "\n",
    "\n",
    "        classifier.fit( training_data, y[train])  #fitting algoirthm\n",
    "\n",
    "        y_pred = classifier.predict(testing_data) #getting prediction\n",
    "        \n",
    "        accruacy_scores_lst.append(accuracy_score(y[test], y_pred)) #save all accuraies in list\n",
    "        \n",
    "        #=========================================================================\n",
    "        repo = classification_report(y[test], y_pred, target_names=['Ham','Spam']) \n",
    "        class_repo_lst.append(repo) \n",
    "        acc_repo.append(float(repo[203:207])) #get accuracy on spam \n",
    "        indx = acc_repo.index(max(acc_repo))\n",
    "        #=========================================================================== \n",
    "                                   \n",
    "        if choice == 'c':\n",
    "            conv_lst.append(confusion_matrix(y[test], y_pred))\n",
    "        \n",
    "        if choice == 'r':\n",
    "            #------plot-every-fold----------------------------------------------------------------------------------\n",
    "            viz = plot_roc_curve(classifier, testing_data, y[test], name=\"\", alpha=0.3, lw=1, ax=ax)\n",
    "            #-------------------------------------------------------------------------------------------------------\n",
    "\n",
    "            interp_tpr = np.interp(mean_fpr, viz.fpr, viz.tpr)\n",
    "            interp_tpr[0] = 0.0\n",
    "\n",
    "            tprs.append(interp_tpr)\n",
    "            aucs.append(viz.roc_auc)\n",
    "\n",
    "    if choice == 'r':\n",
    "        #------plotting-AUC----------------------------------------------------------------\n",
    "        ax.plot([0, 1], [0, 1], linestyle='--', lw=2, color='r', alpha=.8)\n",
    "        #----------------------------------------------------------------------------------\n",
    "\n",
    "        mean_tpr = np.max(tprs, axis=0)\n",
    "        mean_tpr[-1] = 1.0\n",
    "        mean_auc = auc(mean_fpr, mean_tpr)\n",
    "        std_auc = np.std(aucs)\n",
    "\n",
    "        #------plotting-ROC------------------------------------------------------------------------------------------------------\n",
    "        ax.plot(mean_fpr, mean_tpr, color='b', lw=2, alpha=.8)\n",
    "        #-------------------------------------------------------------------------------------------------------------------------\n",
    "\n",
    "        print(class_repo_lst[indx])\n",
    "\n",
    "\n",
    "    \n",
    "    if choice == 'c':\n",
    "        conv = conv_lst[indx]\n",
    "        sns.heatmap(conv, annot = True, annot_kws = {\"size\" : 16})\n",
    "        plt.show()\n",
    "    \n",
    "    \n",
    "    if choice == 'r':\n",
    "        ax.set(title=\"Maximum ROC curve after cross validation\")\n",
    "        ax.get_legend().remove()\n",
    "        plt.show()\n",
    "      \n",
    "    \n",
    "    class_repo_lst.clear()\n",
    "    acc_repo.clear()\n",
    "    conv_lst.clear()\n",
    "    jb.dump(classifier,'spammodel.sav')\n",
    "        \n",
    "    return  \"Max_Accuracy : \" + str(round(np.array(accruacy_scores_lst).max(), 4)) + \"%\"                              "
   ]
  },
  {
   "cell_type": "code",
   "execution_count": 81,
   "id": "0d17d364",
   "metadata": {},
   "outputs": [
    {
     "name": "stdout",
     "output_type": "stream",
     "text": [
      "['come slave going shell unconsciously avoiding making unhappy'\n",
      " 'u meet fren dun wan meet ah muz b guy rite'\n",
      " 'g says never answer texts confirmdeny' ...\n",
      " 'contract mobile 11 mnths latest motorola nokia etc free double mins text orange tariffs text yes callback remove records'\n",
      " 'reminder o2 get 250 pounds free call credit details great offers pls reply 2 text valid name house postcode'\n",
      " '2nd time tried 2 contact u u å750 pound prize 2 claim easy call 087187272008 now1 10p per minute btnationalrate']\n"
     ]
    }
   ],
   "source": [
    "print(np.array(data_under[\"pre_pro_doc\"]))"
   ]
  },
  {
   "cell_type": "code",
   "execution_count": 82,
   "id": "fc369b78",
   "metadata": {
    "execution": {
     "iopub.execute_input": "2022-09-17T17:22:13.488485Z",
     "iopub.status.busy": "2022-09-17T17:22:13.487794Z",
     "iopub.status.idle": "2022-09-17T17:22:14.562346Z",
     "shell.execute_reply": "2022-09-17T17:22:14.561171Z"
    },
    "papermill": {
     "duration": 1.096818,
     "end_time": "2022-09-17T17:22:14.564608",
     "exception": false,
     "start_time": "2022-09-17T17:22:13.467790",
     "status": "completed"
    },
    "tags": []
   },
   "outputs": [
    {
     "name": "stdout",
     "output_type": "stream",
     "text": [
      "              precision    recall  f1-score   support\n",
      "\n",
      "         Ham       1.00      0.97      0.98        32\n",
      "        Spam       0.97      1.00      0.99        33\n",
      "\n",
      "    accuracy                           0.98        65\n",
      "   macro avg       0.99      0.98      0.98        65\n",
      "weighted avg       0.99      0.98      0.98        65\n",
      "\n"
     ]
    },
    {
     "data": {
      "image/png": "[encoded data removed]",
      "text/plain": [
       "<Figure size 640x480 with 1 Axes>"
      ]
     },
     "metadata": {},
     "output_type": "display_data"
    },
    {
     "data": {
      "text/plain": [
       "'Max_Accuracy : 0.9846%'"
      ]
     },
     "execution_count": 82,
     "metadata": {},
     "output_type": "execute_result"
    }
   ],
   "source": [
    "cross_validate_Model( MultinomialNB() ,'r')"
   ]
  },
  {
   "cell_type": "markdown",
   "id": "9702a110",
   "metadata": {
    "papermill": {
     "duration": 0.018698,
     "end_time": "2022-09-17T17:22:14.602466",
     "exception": false,
     "start_time": "2022-09-17T17:22:14.583768",
     "status": "completed"
    },
    "tags": []
   },
   "source": [
    "💡 Roc curve shows perfect spiltting data"
   ]
  },
  {
   "cell_type": "code",
   "execution_count": 83,
   "id": "0037228c",
   "metadata": {
    "execution": {
     "iopub.execute_input": "2022-09-17T17:22:14.642427Z",
     "iopub.status.busy": "2022-09-17T17:22:14.642021Z",
     "iopub.status.idle": "2022-09-17T17:22:15.435932Z",
     "shell.execute_reply": "2022-09-17T17:22:15.435127Z"
    },
    "papermill": {
     "duration": 0.816717,
     "end_time": "2022-09-17T17:22:15.438166",
     "exception": false,
     "start_time": "2022-09-17T17:22:14.621449",
     "status": "completed"
    },
    "tags": []
   },
   "outputs": [
    {
     "data": {
      "image/png": "[encoded data removed]",
      "text/plain": [
       "<Figure size 640x480 with 2 Axes>"
      ]
     },
     "metadata": {},
     "output_type": "display_data"
    },
    {
     "data": {
      "text/plain": [
       "'Max_Accuracy : 0.9846%'"
      ]
     },
     "execution_count": 83,
     "metadata": {},
     "output_type": "execute_result"
    }
   ],
   "source": [
    "cross_validate_Model( MultinomialNB(), 'c')"
   ]
  },
  {
   "cell_type": "markdown",
   "id": "d4e0f018",
   "metadata": {
    "papermill": {
     "duration": 0.019493,
     "end_time": "2022-09-17T17:22:15.477979",
     "exception": false,
     "start_time": "2022-09-17T17:22:15.458486",
     "status": "completed"
    },
    "tags": []
   },
   "source": [
    "💡 Confusion matrix shows high quality classifiaction"
   ]
  },
  {
   "cell_type": "code",
   "execution_count": 84,
   "id": "2cf8f7ec",
   "metadata": {
    "execution": {
     "iopub.execute_input": "2022-09-17T17:22:15.520072Z",
     "iopub.status.busy": "2022-09-17T17:22:15.519304Z",
     "iopub.status.idle": "2022-09-17T17:22:15.607353Z",
     "shell.execute_reply": "2022-09-17T17:22:15.606242Z"
    },
    "papermill": {
     "duration": 0.111946,
     "end_time": "2022-09-17T17:22:15.609958",
     "exception": false,
     "start_time": "2022-09-17T17:22:15.498012",
     "status": "completed"
    },
    "tags": []
   },
   "outputs": [
    {
     "data": {
      "text/plain": [
       "0.9846153846153847"
      ]
     },
     "execution_count": 84,
     "metadata": {},
     "output_type": "execute_result"
    }
   ],
   "source": [
    "from sklearn.model_selection import cross_val_score\n",
    "\n",
    "BoW = count_vec.fit_transform(data_under[\"pre_pro_doc\"])\n",
    "\n",
    "cross_val_score(naive_bayes, BoW, data_under[\"class\"], scoring=\"accuracy\", cv = 20).max()"
   ]
  },
  {
   "cell_type": "markdown",
   "id": "fdbac58a",
   "metadata": {
    "papermill": {
     "duration": 0.019291,
     "end_time": "2022-09-17T17:22:15.649056",
     "exception": false,
     "start_time": "2022-09-17T17:22:15.629765",
     "status": "completed"
    },
    "tags": []
   },
   "source": [
    "# Accuracy 98.46%"
   ]
  },
  {
   "cell_type": "markdown",
   "id": "1efd7c7e",
   "metadata": {},
   "source": [
    "#Save Model "
   ]
  },
  {
   "cell_type": "markdown",
   "id": "bb5c6b1f",
   "metadata": {},
   "source": [
    "\n",
    "# Single Prediction"
   ]
  },
  {
   "cell_type": "code",
   "execution_count": 1,
   "id": "10d49e29",
   "metadata": {},
   "outputs": [],
   "source": [
    "from sklearn.feature_extraction.text import CountVectorizer\n",
    "import pandas as pd\n",
    "import numpy as np\n",
    "import joblib as jb\n"
   ]
  },
  {
   "cell_type": "code",
   "execution_count": 2,
   "id": "d63492e9",
   "metadata": {},
   "outputs": [],
   "source": [
    "#Load Classifier\n",
    "classifier=jb.load('spammodel.sav')\n",
    "count_vec=jb.load('vec.sav')"
   ]
  },
  {
   "cell_type": "code",
   "execution_count": 3,
   "id": "485591e4",
   "metadata": {},
   "outputs": [],
   "source": [
    "#Enter Email\n",
    "message1='8,winner valued network customer selected receivea أ¥900 prize reward claim call 09061701461 claim code kl341 valid 12 hours'"
   ]
  },
  {
   "cell_type": "code",
   "execution_count": 9,
   "id": "388acf98",
   "metadata": {},
   "outputs": [],
   "source": [
    "message2='5289,hey congrats 2u2 id luv 2 ive 2 go home'"
   ]
  },
  {
   "cell_type": "code",
   "execution_count": 10,
   "id": "c6787815",
   "metadata": {},
   "outputs": [],
   "source": [
    "#Convert to count vectore\n",
    "new_test = count_vec.transform([message2])"
   ]
  },
  {
   "cell_type": "code",
   "execution_count": 11,
   "id": "ae9cdb1f",
   "metadata": {},
   "outputs": [],
   "source": [
    "#predict Result\n",
    "new_predictions = classifier.predict(new_test)"
   ]
  },
  {
   "cell_type": "code",
   "execution_count": 12,
   "id": "dc72178e",
   "metadata": {},
   "outputs": [
    {
     "name": "stdout",
     "output_type": "stream",
     "text": [
      "[0]\n"
     ]
    }
   ],
   "source": [
    "print(new_predictions)\n",
    "\n"
   ]
  },
  {
   "cell_type": "code",
   "execution_count": null,
   "id": "8280fed0",
   "metadata": {},
   "outputs": [],
   "source": [
    "from tkinter import *\n",
    "import tkinter as tk\n",
    "\n",
    "\n",
    "def spam():\n",
    "    e1=Entry(window)\n",
    "    e_text=e1.get()\n",
    "    #Convert to count vectore\n",
    "    new_test1 = count_vec.transform([e_text])\n",
    "    #predict Result\n",
    "    new_predictions1 = classifier.predict(new_test1)\n",
    "    e1.place(x=280,y=460)\n",
    "    label2.config(text=new_predictions)\n",
    "    if new_predictions==[0]:\n",
    "        label2.config(text=\"not spam\")\n",
    "    else:\n",
    "        label2.config(text=\"spam\")\n",
    " \n",
    "        \n",
    "\n",
    "window=Tk()\n",
    "window.title(\"Email Spam Filter\")\n",
    "#lb.config(image=ax,compound='center')\n",
    "lb=Button(window,text='')\n",
    "lb.pack()\n",
    "lb.config(foreground='pink')\n",
    "ax=PhotoImage(file='C:/Users/Jamil/Desktop/sw.png',master=window)\n",
    "lb.config(image=ax,compound='center')\n",
    "\n",
    "label= Label(window, text = \"Email Spam Detection Using AI\", bg='pink')\n",
    "label.place(x=260,y=430)\n",
    "\n",
    "label2= Label(window, text='')\n",
    "label2.place(x=300,y=550)\n",
    "\n",
    "#label3=Label(image=ax,compound='center')\n",
    "#label3.place(x=100,y=30)\n",
    "\n",
    "e1=Entry(window)\n",
    "e1.place(x=280,y=460)\n",
    "bt= Button(window, text=\"Predict\", command=spam,bg='black', fg='white')\n",
    "bt.place(x=300,y=490)\n",
    "\n",
    "label4= Label(window, text='Enter email')\n",
    "label4.place(x=210,y=460)\n",
    "window.geometry('600x600')\n",
    "window.mainloop()\n",
    "\n",
    "\n"
   ]
  },
  {
   "cell_type": "code",
   "execution_count": null,
   "id": "ba79b124",
   "metadata": {},
   "outputs": [],
   "source": []
  }
 ],
 "metadata": {
  "kernelspec": {
   "display_name": "Python 3 (ipykernel)",
   "language": "python",
   "name": "python3"
  },
  "language_info": {
   "codemirror_mode": {
    "name": "ipython",
    "version": 3
   },
   "file_extension": ".py",
   "mimetype": "text/x-python",
   "name": "python",
   "nbconvert_exporter": "python",
   "pygments_lexer": "ipython3",
   "version": "3.7.15"
  },
  "papermill": {
   "default_parameters": {},
   "duration": 17.876372,
   "end_time": "2022-09-17T17:22:16.529170",
   "environment_variables": {},
   "exception": null,
   "input_path": "__notebook__.ipynb",
   "output_path": "__notebook__.ipynb",
   "parameters": {},
   "start_time": "2022-09-17T17:21:58.652798",
   "version": "2.3.4"
  }
 },
 "nbformat": 4,
 "nbformat_minor": 5
}
